{
 "cells": [
  {
   "cell_type": "code",
   "execution_count": 1,
   "metadata": {},
   "outputs": [
    {
     "name": "stdout",
     "output_type": "stream",
     "text": [
      "Processes Burst time  Waiting time  Turn around time\n",
      " 1\t\t10\t 0\t\t 10\n",
      " 2\t\t5\t 10\t\t 15\n",
      " 3\t\t8\t 15\t\t 23\n",
      "Average waiting time = 8.333333333333334\n",
      "Average turn around time = 16.0\n"
     ]
    }
   ],
   "source": [
    "\n",
    "def findWaitingTime(processes, n,\n",
    "                    bt, wt):\n",
    " \n",
    "    \n",
    "    wt[0] = 0\n",
    " \n",
    "  \n",
    "    for i in range(1, n ):\n",
    "        wt[i] = bt[i - 1] + wt[i - 1]\n",
    " \n",
    "\n",
    "\n",
    "def findTurnAroundTime(processes, n,\n",
    "                       bt, wt, tat):\n",
    " \n",
    "    \n",
    "    for i in range(n):\n",
    "        tat[i] = bt[i] + wt[i]\n",
    " \n",
    "\n",
    "def findavgTime( processes, n, bt):\n",
    " \n",
    "    wt = [0] * n\n",
    "    tat = [0] * n\n",
    "    total_wt = 0\n",
    "    total_tat = 0\n",
    " \n",
    "  \n",
    "    findWaitingTime(processes, n, bt, wt)\n",
    " \n",
    "    \n",
    "    findTurnAroundTime(processes, n,\n",
    "                       bt, wt, tat)\n",
    " \n",
    "  \n",
    "    print( \"Processes Burst time \" +\n",
    "                  \" Waiting time \" +\n",
    "                \" Turn around time\")\n",
    " \n",
    "    for i in range(n):\n",
    "     \n",
    "        total_wt = total_wt + wt[i]\n",
    "        total_tat = total_tat + tat[i]\n",
    "        print(\" \" + str(i + 1) + \"\\t\\t\" +\n",
    "                    str(bt[i]) + \"\\t \" +\n",
    "                    str(wt[i]) + \"\\t\\t \" +\n",
    "                    str(tat[i]))\n",
    " \n",
    "    print( \"Average waiting time = \"+\n",
    "                   str(total_wt / n))\n",
    "    print(\"Average turn around time = \"+\n",
    "                     str(total_tat / n))\n",
    " \n",
    "\n",
    "if __name__ ==\"__main__\":\n",
    "     \n",
    " \n",
    "    processes = [ 1, 2, 3]\n",
    "    n = len(processes)\n",
    " \n",
    "    \n",
    "    burst_time = [10, 5, 8]\n",
    " \n",
    "    findavgTime(processes, n, burst_time)"
   ]
  },
  {
   "cell_type": "code",
   "execution_count": null,
   "metadata": {},
   "outputs": [],
   "source": []
  }
 ],
 "metadata": {
  "kernelspec": {
   "display_name": "Python 3",
   "language": "python",
   "name": "python3"
  },
  "language_info": {
   "codemirror_mode": {
    "name": "ipython",
    "version": 3
   },
   "file_extension": ".py",
   "mimetype": "text/x-python",
   "name": "python",
   "nbconvert_exporter": "python",
   "pygments_lexer": "ipython3",
   "version": "3.7.6"
  }
 },
 "nbformat": 4,
 "nbformat_minor": 4
}
