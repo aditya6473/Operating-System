{
 "cells": [
  {
   "cell_type": "code",
   "execution_count": 1,
   "metadata": {},
   "outputs": [
    {
     "name": "stdout",
     "output_type": "stream",
     "text": [
      "Processes   Burst Time   Arrival Time     Waiting Time   Turn-Around Time  Completion Time \n",
      "\n",
      "  1 \t\t 5 \t\t 0 \t\t 0 \t\t  5 \t\t  5\n",
      "  2 \t\t 9 \t\t 3 \t\t 2 \t\t  11 \t\t  14\n",
      "  3 \t\t 6 \t\t 6 \t\t 8 \t\t  14 \t\t  20\n",
      "Average waiting time = 3.33333 \n",
      "\n",
      "Average turn around time =  10.0\n"
     ]
    }
   ],
   "source": [
    "def findWaitingTime(processes, n, bt, wt, at):\n",
    "    service_time = [0] * n\n",
    "    service_time[0] = 0\n",
    "    wt[0] = 0\n",
    " \n",
    "    \n",
    "    for i in range(1, n):\n",
    "         \n",
    "        \n",
    "        service_time[i] = (service_time[i - 1] +\n",
    "                                     bt[i - 1])\n",
    " \n",
    "  \n",
    "        wt[i] = service_time[i] - at[i]\n",
    " \n",
    "\n",
    "        if (wt[i] < 0):\n",
    "            wt[i] = 0\n",
    "     \n",
    "\n",
    "def findTurnAroundTime(processes, n, bt, wt, tat):\n",
    "     \n",
    "   \n",
    "    for i in range(n):\n",
    "        tat[i] = bt[i] + wt[i]\n",
    " \n",
    " \n",
    "def findavgTime(processes, n, bt, at):\n",
    "    wt = [0] * n\n",
    "    tat = [0] * n\n",
    " \n",
    "  \n",
    "    findWaitingTime(processes, n, bt, wt, at)\n",
    " \n",
    "  \n",
    "    findTurnAroundTime(processes, n, bt, wt, tat)\n",
    " \n",
    "\n",
    "    print(\"Processes   Burst Time   Arrival Time     Waiting\",\n",
    "          \"Time   Turn-Around Time  Completion Time \\n\")\n",
    "    total_wt = 0\n",
    "    total_tat = 0\n",
    "    for i in range(n):\n",
    " \n",
    "        total_wt = total_wt + wt[i]\n",
    "        total_tat = total_tat + tat[i]\n",
    "        compl_time = tat[i] + at[i]\n",
    "        print(\" \", i + 1, \"\\t\\t\", bt[i], \"\\t\\t\", at[i],\n",
    "              \"\\t\\t\", wt[i], \"\\t\\t \", tat[i], \"\\t\\t \", compl_time)\n",
    " \n",
    "    print(\"Average waiting time = %.5f \"%(total_wt /n))\n",
    "    print(\"\\nAverage turn around time = \", total_tat / n)\n",
    " \n",
    "\n",
    "if __name__ ==\"__main__\":\n",
    "     \n",
    "  \n",
    "    processes = [1, 2, 3]\n",
    "    n = 3\n",
    " \n",
    "  \n",
    "    burst_time = [5, 9, 6]\n",
    " \n",
    "\n",
    "    arrival_time = [0, 3, 6]\n",
    " \n",
    "    findavgTime(processes, n, burst_time,\n",
    "                            arrival_time)"
   ]
  },
  {
   "cell_type": "code",
   "execution_count": null,
   "metadata": {},
   "outputs": [],
   "source": []
  }
 ],
 "metadata": {
  "kernelspec": {
   "display_name": "Python 3",
   "language": "python",
   "name": "python3"
  },
  "language_info": {
   "codemirror_mode": {
    "name": "ipython",
    "version": 3
   },
   "file_extension": ".py",
   "mimetype": "text/x-python",
   "name": "python",
   "nbconvert_exporter": "python",
   "pygments_lexer": "ipython3",
   "version": "3.7.6"
  }
 },
 "nbformat": 4,
 "nbformat_minor": 4
}
